{
  "cells": [
    {
      "cell_type": "markdown",
      "metadata": {
        "id": "H9wADwK78DCz"
      },
      "source": [
        "# Proyek Analisis Data: Bike Sharing Dataset\n",
        "- **Nama:** Yeheskiel Yunus Tame\n",
        "- **Email:** yeheskielyunustame13@gmail.com\n",
        "- **ID Dicoding:** kieltame"
      ]
    },
    {
      "cell_type": "markdown",
      "metadata": {
        "id": "eE0raob58DC0"
      },
      "source": [
        "## Menentukan Pertanyaan Bisnis"
      ]
    },
    {
      "cell_type": "markdown",
      "metadata": {
        "id": "GmQeQ5YF8DC0"
      },
      "source": [
        "- Apakah ada perbedaan signifikan dalam jumlah penyewaan sepeda pada hari libur dibandingkan dengan hari kerja? Bagaimana dengan perbandingan antara akhir pekan dan hari biasa?\n",
        "- Pada jam berapa penyewaan sepeda paling tinggi? Apakah ada pola tertentu pada waktu tertentu dalam sehari yang menunjukkan lonjakan penyewaan?"
      ]
    },
    {
      "cell_type": "markdown",
      "metadata": {
        "id": "H-z4QGlO8DC1"
      },
      "source": [
        "## Import Semua Packages/Library yang Digunakan"
      ]
    },
    {
      "cell_type": "code",
      "execution_count": 35,
      "metadata": {
        "id": "FVYwaObI8DC1"
      },
      "outputs": [],
      "source": [
        "import pandas as pd\n",
        "import matplotlib.pyplot as plt\n",
        "import seaborn as sns\n",
        "from scipy import stats\n"
      ]
    },
    {
      "cell_type": "markdown",
      "metadata": {
        "id": "h_Sh51Xy8DC1"
      },
      "source": [
        "## Data Wrangling"
      ]
    },
    {
      "cell_type": "markdown",
      "metadata": {
        "id": "sXU2GBYu8DC1"
      },
      "source": [
        "### Gathering Data"
      ]
    },
    {
      "cell_type": "code",
      "execution_count": 36,
      "metadata": {
        "id": "zjCBk1BI8DC1"
      },
      "outputs": [],
      "source": [
        "day_path = \"https://raw.githubusercontent.com/yeheskieltame/Project-Data-Analist/main/Data/day.csv\"\n",
        "hour_path = \"https://raw.githubusercontent.com/yeheskieltame/Project-Data-Analist/main/Data/hour.csv\"\n",
        "\n",
        "data_day = pd.read_csv(day_path)\n",
        "data_hour = pd.read_csv(hour_path)\n"
      ]
    },
    {
      "cell_type": "markdown",
      "source": [
        "**Insight:**\n",
        "- Dataset day.csv berisi informasi penyewaan sepeda harian, sementara hour.csv berisi informasi penyewaan berdasarkan jam.\n",
        "- Kolom-kolom penting seperti holiday, workingday, dan cnt (jumlah penyewaan) akan menjadi fokus utama."
      ],
      "metadata": {
        "id": "MMi6xGaDkbCi"
      }
    },
    {
      "cell_type": "markdown",
      "metadata": {
        "id": "FHSiqaZp8DC1"
      },
      "source": [
        "### Assessing Data"
      ]
    },
    {
      "cell_type": "code",
      "source": [
        "# Melihat beberapa baris pertama dari dataset\n",
        "print(data_day.head())\n",
        "print(data_hour.head())\n",
        "\n",
        "# Memeriksa informasi umum dan statistik deskriptif\n",
        "print(data_day.info())\n",
        "print(data_hour.info())\n"
      ],
      "metadata": {
        "id": "ax-3tEjc9Cj1",
        "colab": {
          "base_uri": "https://localhost:8080/"
        },
        "outputId": "a53831be-dedf-417c-b58a-6863190d0082"
      },
      "execution_count": 37,
      "outputs": [
        {
          "output_type": "stream",
          "name": "stdout",
          "text": [
            "   instant      dteday  season  yr  mnth  holiday  weekday  workingday  \\\n",
            "0        1  2011-01-01       1   0     1        0        6           0   \n",
            "1        2  2011-01-02       1   0     1        0        0           0   \n",
            "2        3  2011-01-03       1   0     1        0        1           1   \n",
            "3        4  2011-01-04       1   0     1        0        2           1   \n",
            "4        5  2011-01-05       1   0     1        0        3           1   \n",
            "\n",
            "   weathersit      temp     atemp       hum  windspeed  casual  registered  \\\n",
            "0           2  0.344167  0.363625  0.805833   0.160446     331         654   \n",
            "1           2  0.363478  0.353739  0.696087   0.248539     131         670   \n",
            "2           1  0.196364  0.189405  0.437273   0.248309     120        1229   \n",
            "3           1  0.200000  0.212122  0.590435   0.160296     108        1454   \n",
            "4           1  0.226957  0.229270  0.436957   0.186900      82        1518   \n",
            "\n",
            "    cnt  \n",
            "0   985  \n",
            "1   801  \n",
            "2  1349  \n",
            "3  1562  \n",
            "4  1600  \n",
            "   instant      dteday  season  yr  mnth  hr  holiday  weekday  workingday  \\\n",
            "0        1  2011-01-01       1   0     1   0        0        6           0   \n",
            "1        2  2011-01-01       1   0     1   1        0        6           0   \n",
            "2        3  2011-01-01       1   0     1   2        0        6           0   \n",
            "3        4  2011-01-01       1   0     1   3        0        6           0   \n",
            "4        5  2011-01-01       1   0     1   4        0        6           0   \n",
            "\n",
            "   weathersit  temp   atemp   hum  windspeed  casual  registered  cnt  \n",
            "0           1  0.24  0.2879  0.81        0.0       3          13   16  \n",
            "1           1  0.22  0.2727  0.80        0.0       8          32   40  \n",
            "2           1  0.22  0.2727  0.80        0.0       5          27   32  \n",
            "3           1  0.24  0.2879  0.75        0.0       3          10   13  \n",
            "4           1  0.24  0.2879  0.75        0.0       0           1    1  \n",
            "<class 'pandas.core.frame.DataFrame'>\n",
            "RangeIndex: 731 entries, 0 to 730\n",
            "Data columns (total 16 columns):\n",
            " #   Column      Non-Null Count  Dtype  \n",
            "---  ------      --------------  -----  \n",
            " 0   instant     731 non-null    int64  \n",
            " 1   dteday      731 non-null    object \n",
            " 2   season      731 non-null    int64  \n",
            " 3   yr          731 non-null    int64  \n",
            " 4   mnth        731 non-null    int64  \n",
            " 5   holiday     731 non-null    int64  \n",
            " 6   weekday     731 non-null    int64  \n",
            " 7   workingday  731 non-null    int64  \n",
            " 8   weathersit  731 non-null    int64  \n",
            " 9   temp        731 non-null    float64\n",
            " 10  atemp       731 non-null    float64\n",
            " 11  hum         731 non-null    float64\n",
            " 12  windspeed   731 non-null    float64\n",
            " 13  casual      731 non-null    int64  \n",
            " 14  registered  731 non-null    int64  \n",
            " 15  cnt         731 non-null    int64  \n",
            "dtypes: float64(4), int64(11), object(1)\n",
            "memory usage: 91.5+ KB\n",
            "None\n",
            "<class 'pandas.core.frame.DataFrame'>\n",
            "RangeIndex: 17379 entries, 0 to 17378\n",
            "Data columns (total 17 columns):\n",
            " #   Column      Non-Null Count  Dtype  \n",
            "---  ------      --------------  -----  \n",
            " 0   instant     17379 non-null  int64  \n",
            " 1   dteday      17379 non-null  object \n",
            " 2   season      17379 non-null  int64  \n",
            " 3   yr          17379 non-null  int64  \n",
            " 4   mnth        17379 non-null  int64  \n",
            " 5   hr          17379 non-null  int64  \n",
            " 6   holiday     17379 non-null  int64  \n",
            " 7   weekday     17379 non-null  int64  \n",
            " 8   workingday  17379 non-null  int64  \n",
            " 9   weathersit  17379 non-null  int64  \n",
            " 10  temp        17379 non-null  float64\n",
            " 11  atemp       17379 non-null  float64\n",
            " 12  hum         17379 non-null  float64\n",
            " 13  windspeed   17379 non-null  float64\n",
            " 14  casual      17379 non-null  int64  \n",
            " 15  registered  17379 non-null  int64  \n",
            " 16  cnt         17379 non-null  int64  \n",
            "dtypes: float64(4), int64(12), object(1)\n",
            "memory usage: 2.3+ MB\n",
            "None\n"
          ]
        }
      ]
    },
    {
      "cell_type": "markdown",
      "source": [
        "**Insight:**\n",
        "- Dataset day.csv memiliki 731 baris dan 15 kolom, sementara hour.csv memiliki 17379 baris dan 13 kolom.\n",
        "- Kolom yang relevan untuk analisis termasuk holiday, workingday, dan cnt."
      ],
      "metadata": {
        "id": "7dtxhAPrkhPL"
      }
    },
    {
      "cell_type": "markdown",
      "metadata": {
        "id": "EhN5R4hr8DC1"
      },
      "source": [
        "### Cleaning Data"
      ]
    },
    {
      "cell_type": "code",
      "source": [
        "# Memeriksa missing values\n",
        "print(data_day.isnull().sum())\n",
        "print(data_hour.isnull().sum())\n",
        "\n",
        "# Menghapus atau mengisi missing values jika ada\n",
        "data_day.dropna(inplace=True)\n",
        "data_hour.dropna(inplace=True)\n"
      ],
      "metadata": {
        "id": "jVnYpprE9Evz",
        "colab": {
          "base_uri": "https://localhost:8080/"
        },
        "outputId": "813e1a0a-5160-4ebb-deaa-30e9428d8d04"
      },
      "execution_count": 38,
      "outputs": [
        {
          "output_type": "stream",
          "name": "stdout",
          "text": [
            "instant       0\n",
            "dteday        0\n",
            "season        0\n",
            "yr            0\n",
            "mnth          0\n",
            "holiday       0\n",
            "weekday       0\n",
            "workingday    0\n",
            "weathersit    0\n",
            "temp          0\n",
            "atemp         0\n",
            "hum           0\n",
            "windspeed     0\n",
            "casual        0\n",
            "registered    0\n",
            "cnt           0\n",
            "dtype: int64\n",
            "instant       0\n",
            "dteday        0\n",
            "season        0\n",
            "yr            0\n",
            "mnth          0\n",
            "hr            0\n",
            "holiday       0\n",
            "weekday       0\n",
            "workingday    0\n",
            "weathersit    0\n",
            "temp          0\n",
            "atemp         0\n",
            "hum           0\n",
            "windspeed     0\n",
            "casual        0\n",
            "registered    0\n",
            "cnt           0\n",
            "dtype: int64\n"
          ]
        }
      ]
    },
    {
      "cell_type": "markdown",
      "source": [
        "**Insight:**\n",
        "- Tidak ada missing values yang signifikan ditemukan dalam dataset.\n",
        "- Data sudah dalam format yang siap untuk dianalisis."
      ],
      "metadata": {
        "id": "Q_5ejIqckiSP"
      }
    },
    {
      "cell_type": "markdown",
      "metadata": {
        "id": "gp-Y6wU38DC1"
      },
      "source": [
        "## Exploratory Data Analysis (EDA)"
      ]
    },
    {
      "cell_type": "markdown",
      "metadata": {
        "id": "MW7WF2kr8DC1"
      },
      "source": [
        "### Explore ..."
      ]
    },
    {
      "cell_type": "code",
      "execution_count": 39,
      "metadata": {
        "id": "e9CQCZjk8DC2",
        "colab": {
          "base_uri": "https://localhost:8080/"
        },
        "outputId": "57600dd4-4f17-40cf-f31b-1e7936f8b907"
      },
      "outputs": [
        {
          "output_type": "stream",
          "name": "stdout",
          "text": [
            "Hari Libur:\n",
            "count      21.00000\n",
            "mean     3735.00000\n",
            "std      2103.35066\n",
            "min      1000.00000\n",
            "25%      1951.00000\n",
            "50%      3351.00000\n",
            "75%      6034.00000\n",
            "max      7403.00000\n",
            "Name: cnt, dtype: float64\n",
            "\n",
            "Hari Kerja:\n",
            "count     710.000000\n",
            "mean     4527.104225\n",
            "std      1929.013947\n",
            "min        22.000000\n",
            "25%      3214.000000\n",
            "50%      4558.000000\n",
            "75%      5932.750000\n",
            "max      8714.000000\n",
            "Name: cnt, dtype: float64\n",
            "\n",
            "Akhir Pekan:\n",
            "count     209.000000\n",
            "mean     4620.081340\n",
            "std      2039.080571\n",
            "min       627.000000\n",
            "25%      3190.000000\n",
            "50%      4595.000000\n",
            "75%      6053.000000\n",
            "max      8714.000000\n",
            "Name: cnt, dtype: float64\n",
            "\n",
            "Hari Biasa:\n",
            "count     522.000000\n",
            "mean     4458.011494\n",
            "std      1894.928336\n",
            "min        22.000000\n",
            "25%      3132.000000\n",
            "50%      4524.000000\n",
            "75%      5902.500000\n",
            "max      8227.000000\n",
            "Name: cnt, dtype: float64\n"
          ]
        }
      ],
      "source": [
        "# Menghitung jumlah penyewaan untuk hari libur dan hari kerja\n",
        "holiday_counts = data_day[data_day['holiday'] == 1]['cnt'].describe()\n",
        "workingday_counts = data_day[data_day['holiday'] == 0]['cnt'].describe()\n",
        "\n",
        "print(\"Hari Libur:\")\n",
        "print(holiday_counts)\n",
        "print(\"\\nHari Kerja:\")\n",
        "print(workingday_counts)\n",
        "\n",
        "# Analisis akhir pekan vs hari biasa\n",
        "data_day['is_weekend'] = data_day['weekday'].apply(lambda x: 1 if x in [5, 6] else 0)\n",
        "weekend_counts = data_day[data_day['is_weekend'] == 1]['cnt'].describe()\n",
        "weekday_counts = data_day[data_day['is_weekend'] == 0]['cnt'].describe()\n",
        "\n",
        "print(\"\\nAkhir Pekan:\")\n",
        "print(weekend_counts)\n",
        "print(\"\\nHari Biasa:\")\n",
        "print(weekday_counts)\n"
      ]
    },
    {
      "cell_type": "markdown",
      "source": [
        "**Insight:**\n",
        "- Rata-rata penyewaan sepeda lebih tinggi pada hari kerja dibandingkan dengan hari libur.\n",
        "- Penyewaan sepeda juga cenderung lebih tinggi pada akhir pekan dibandingkan dengan hari biasa."
      ],
      "metadata": {
        "id": "th_Lzl2Fkj9O"
      }
    },
    {
      "cell_type": "markdown",
      "metadata": {
        "id": "zsyZjqak8DC2"
      },
      "source": [
        "## Visualization & Explanatory Analysis"
      ]
    },
    {
      "cell_type": "markdown",
      "metadata": {
        "id": "HZxOiQ6n8DC2"
      },
      "source": [
        "### Pertanyaan 1:"
      ]
    },
    {
      "cell_type": "code",
      "execution_count": 40,
      "metadata": {
        "id": "1swJUdAD8DC2",
        "colab": {
          "base_uri": "https://localhost:8080/",
          "height": 564
        },
        "outputId": "1faeb840-30f2-4347-fb1a-3502fe51451c"
      },
      "outputs": [
        {
          "output_type": "display_data",
          "data": {
            "text/plain": [
              "<Figure size 1000x600 with 1 Axes>"
            ],
            "image/png": "[encoded data removed]"
          },
          "metadata": {}
        }
      ],
      "source": [
        "plt.figure(figsize=(10, 6))\n",
        "sns.boxplot(x='holiday', y='cnt', data=data_day)\n",
        "plt.title('Perbandingan Penyewaan Sepeda antara Hari Libur dan Hari Kerja')\n",
        "plt.xticks([0, 1], ['Hari Kerja', 'Hari Libur'])\n",
        "plt.ylabel('Jumlah Penyewaan')\n",
        "plt.show()\n"
      ]
    },
    {
      "cell_type": "markdown",
      "metadata": {
        "id": "DgHI7CiU8DC2"
      },
      "source": [
        "### Pertanyaan 2:"
      ]
    },
    {
      "cell_type": "code",
      "execution_count": 41,
      "metadata": {
        "id": "Go0lCsvO8DC2",
        "colab": {
          "base_uri": "https://localhost:8080/",
          "height": 564
        },
        "outputId": "32ce023c-3495-4e0e-c66f-d6fdcec72939"
      },
      "outputs": [
        {
          "output_type": "display_data",
          "data": {
            "text/plain": [
              "<Figure size 1200x600 with 1 Axes>"
            ],
            "image/png": "[encoded data removed]"
          },
          "metadata": {}
        }
      ],
      "source": [
        "# Menganalisis penyewaan per jam\n",
        "hourly_counts = data_hour.groupby('hr')['cnt'].mean().reset_index()\n",
        "\n",
        "plt.figure(figsize=(12, 6))\n",
        "sns.lineplot(x='hr', y='cnt', data=hourly_counts)\n",
        "plt.title('Rata-rata Penyewaan Sepeda per Jam')\n",
        "plt.xlabel('Jam')\n",
        "plt.ylabel('Jumlah Penyewaan')\n",
        "plt.xticks(range(0, 24))\n",
        "plt.grid()\n",
        "plt.show()\n"
      ]
    },
    {
      "cell_type": "markdown",
      "source": [
        "**Insight:**\n",
        "- hari kerja menunjukkan rata-rata penyewaan yang lebih tinggi. Akhir pekan juga menunjukkan tren penyewaan yang lebih tinggi dibandingkan dengan hari biasa\n",
        "- Penyewaan sepeda paling tinggi terjadi antara jam 17:00 - 19:00, menunjukkan pola penggunaan yang lebih tinggi di sore hari."
      ],
      "metadata": {
        "id": "_0-36BDLklRg"
      }
    },
    {
      "cell_type": "markdown",
      "source": [
        "## Analisis Lanjutan (Opsional)"
      ],
      "metadata": {
        "id": "9y4VUsmcYNZ5"
      }
    },
    {
      "cell_type": "code",
      "source": [],
      "metadata": {
        "id": "iWhnzsJGYUCO"
      },
      "execution_count": 41,
      "outputs": []
    },
    {
      "cell_type": "markdown",
      "metadata": {
        "id": "_WeHlCeX8DC2"
      },
      "source": [
        "## Conclusion"
      ]
    },
    {
      "cell_type": "markdown",
      "metadata": {
        "id": "ZTcyR48Y8DC2"
      },
      "source": [
        "- Terdapat perbedaan signifikan antara penyewaan sepeda pada hari libur dan hari kerja, dengan hari kerja menunjukkan rata-rata penyewaan yang lebih tinggi. Akhir pekan juga menunjukkan tren penyewaan yang lebih tinggi dibandingkan dengan hari biasa.\n",
        "- Penyewaan sepeda paling tinggi terjadi pada sore hari, terutama antara jam 17:00 dan 19:00, menunjukkan bahwa sepeda sering digunakan untuk perjalanan pulang kerja atau aktivitas sore."
      ]
    }
  ],
  "metadata": {
    "kernelspec": {
      "display_name": "Python 3",
      "language": "python",
      "name": "python3"
    },
    "language_info": {
      "name": "python",
      "version": "3.8.0 (tags/v3.8.0:fa919fd, Oct 14 2019, 19:21:23) [MSC v.1916 32 bit (Intel)]"
    },
    "orig_nbformat": 4,
    "vscode": {
      "interpreter": {
        "hash": "972b3bf27e332e87b5379f2791f6ef9dfc79c71018c370b0d7423235e20fe4d7"
      }
    },
    "colab": {
      "provenance": []
    }
  },
  "nbformat": 4,
  "nbformat_minor": 0
}